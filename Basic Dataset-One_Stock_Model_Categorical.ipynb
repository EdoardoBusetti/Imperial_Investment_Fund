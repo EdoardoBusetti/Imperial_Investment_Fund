{
 "cells": [
  {
   "cell_type": "code",
   "execution_count": 73,
   "metadata": {},
   "outputs": [],
   "source": [
    "import tensorflow as tf\n",
    "import pandas as pd\n",
    "import numpy as np\n",
    "import sklearn as sk\n",
    "from sklearn import preprocessing\n",
    "from sklearn import model_selection\n",
    "import matplotlib.pyplot as plt\n",
    "import seaborn as sns\n",
    "import random"
   ]
  },
  {
   "cell_type": "code",
   "execution_count": 74,
   "metadata": {},
   "outputs": [],
   "source": [
    "data = pd.read_csv('data.csv', index_col = 0)"
   ]
  },
  {
   "cell_type": "code",
   "execution_count": 75,
   "metadata": {},
   "outputs": [],
   "source": [
    "data = data.assign(Ret1M  = data.Close.groupby(data.Tick).pct_change(1))\n",
    "data = data.assign(Ret3M  = data.Close.groupby(data.Tick).pct_change(3))\n",
    "data = data.assign(Ret6M  = data.Close.groupby(data.Tick).pct_change(6))\n",
    "data = data.assign(Ret12M = data.Close.groupby(data.Tick).pct_change(12))"
   ]
  },
  {
   "cell_type": "code",
   "execution_count": 76,
   "metadata": {},
   "outputs": [],
   "source": [
    "data = data.assign(MOM3M  = data.Close.groupby(data.Tick).shift(1)/data.Close.groupby(data.Tick).shift(4)  - 1)\n",
    "data = data.assign(MOM6M  = data.Close.groupby(data.Tick).shift(1)/data.Close.groupby(data.Tick).shift(6)  - 1)\n",
    "data = data.assign(MOM12M = data.Close.groupby(data.Tick).shift(1)/data.Close.groupby(data.Tick).shift(12) - 1)"
   ]
  },
  {
   "cell_type": "code",
   "execution_count": 77,
   "metadata": {},
   "outputs": [],
   "source": [
    "# Changing \"Date\" to datetime format\n",
    "data['Date'] = pd.to_datetime(data['Date'])"
   ]
  },
  {
   "cell_type": "code",
   "execution_count": 78,
   "metadata": {},
   "outputs": [],
   "source": [
    "data.dropna(axis=0, how='any',inplace=True) # Drop first 12 rows since we dont' have some factors (e.g. ret12) # Also, we might now need data from 1999 to predict current movements"
   ]
  },
  {
   "cell_type": "code",
   "execution_count": 79,
   "metadata": {},
   "outputs": [],
   "source": [
    "#Sets index of dataframe to the stock's tick for sorting purposes\n",
    "data.set_index(\"Tick\",inplace=True)\n",
    "\n",
    "#Extracts data for individual stock\n",
    "def get_stock_data(data,stock):\n",
    "    return data.loc[stock]"
   ]
  },
  {
   "cell_type": "markdown",
   "metadata": {},
   "source": [
    "### Standardising the data - Cross sectional MinMax"
   ]
  },
  {
   "cell_type": "code",
   "execution_count": 80,
   "metadata": {},
   "outputs": [],
   "source": [
    "%%capture\n",
    "numeric_columns = list(data.columns.values[data.dtypes.values == float]) # Keeeping only numeric columns\n",
    "\n",
    "\n",
    "from sklearn.preprocessing import MinMaxScaler\n",
    "scaler = MinMaxScaler(feature_range=(0,1)) #Defyning the scalar object\n",
    "\n",
    "def get_cross_section(data,date): # Used\n",
    "    return data[data.Date == date]\n",
    "\n",
    "\n",
    "standardized_data = pd.DataFrame(columns = list(data.columns.values).append(\"Quintile\"))\n",
    "\n",
    "for date in set(data.Date.values):\n",
    "    CS_numeric_date = get_cross_section(data,date)[numeric_columns] # Extracting numeric columns from the cross section\n",
    "    transformed = scaler.fit_transform(CS_numeric_date) # cross-sectional standardization\n",
    "    scaled_features_df = pd.DataFrame(transformed, index=CS_numeric_date.index, columns=CS_numeric_date.columns) # transforming into dataframe\n",
    "    scaled_features_df.insert(0, \"Date\", date) # Adding back the corresponding date\n",
    "    \n",
    "    \n",
    "    ################ Calculating quintiles ##################\n",
    "    q_20 = scaled_features_df[\"Ret1M\"].quantile(q=0.2, interpolation='linear')\n",
    "    q_40 = scaled_features_df[\"Ret1M\"].quantile(q=0.4, interpolation='linear')\n",
    "    q_60 = scaled_features_df[\"Ret1M\"].quantile(q=0.6, interpolation='linear')\n",
    "    q_80 = scaled_features_df[\"Ret1M\"].quantile(q=0.8, interpolation='linear')\n",
    "    \n",
    "    # Encoding: 4 is in 1st quantile, 3 if in second quantile ...\n",
    "    idx1 = np.where((scaled_features_df['Ret1M']<= q_20))\n",
    "    idx2 = np.where((scaled_features_df['Ret1M']> q_20) & (scaled_features_df['Ret1M']<= q_40))\n",
    "    idx3 = np.where((scaled_features_df['Ret1M']> q_40) & (scaled_features_df['Ret1M']<= q_60))\n",
    "    idx4 = np.where((scaled_features_df['Ret1M']> q_60) & (scaled_features_df['Ret1M']<= q_80))\n",
    "    idx5 = np.where((scaled_features_df['Ret1M']> q_80))\n",
    "    \n",
    "    scaled_features_df[\"Quintile\"] = 999 # Initializing value\n",
    "    scaled_features_df[\"Quintile\"].iloc[idx1] = 0\n",
    "    scaled_features_df[\"Quintile\"].iloc[idx2] = 1\n",
    "    scaled_features_df[\"Quintile\"].iloc[idx3] = 2\n",
    "    scaled_features_df[\"Quintile\"].iloc[idx4] = 3\n",
    "    scaled_features_df[\"Quintile\"].iloc[idx5] = 4\n",
    "    \n",
    "    \n",
    "    standardized_data = pd.concat([standardized_data, scaled_features_df]) # Adding the data from this date to the whole standardized database\n",
    "    \n",
    "    \n",
    "standardized_data.sort_values(by=['Date'],inplace = True)"
   ]
  },
  {
   "cell_type": "markdown",
   "metadata": {},
   "source": [
    "### Shifting Quintiles to make predictions"
   ]
  },
  {
   "cell_type": "code",
   "execution_count": 81,
   "metadata": {},
   "outputs": [],
   "source": [
    "%%capture\n",
    "standardized_data_with_target = pd.DataFrame(columns = list(standardized_data.columns.values).append(\"Target_Shifted_Quintile_1\"))\n",
    "\n",
    "for tick in set(standardized_data.index.values):\n",
    "    TS_tick = standardized_data[standardized_data.index == tick]\n",
    "    \n",
    "    \n",
    "    TS_tick[\"Target_Shifted_Quintile_1\"] = TS_tick[[\"Quintile\"]].shift(-1)\n",
    "    TS_tick[\"Target_Shifted_Quintile_1\"][-1] = 999 # Before converting to int we have to get rid of the nan (last value of the shifted)\n",
    "    TS_tick[\"Target_Shifted_Quintile_1\"] = TS_tick[\"Target_Shifted_Quintile_1\"].astype(int)\n",
    "    \n",
    "    standardized_data_with_target = pd.concat([standardized_data_with_target, TS_tick]) # Adding the data from this date to the whole standardized database\n",
    "    \n",
    "    \n",
    "standardized_data_with_target[\"Temp\"] = standardized_data_with_target.index\n",
    "standardized_data_with_target.sort_values(by=['Date', 'Temp'], inplace=True)\n",
    "standardized_data_with_target.sort_values(by=['Date', 'Temp'], inplace=True)\n",
    "standardized_data_with_target.drop(['Temp'],axis='columns', inplace=True)"
   ]
  },
  {
   "cell_type": "markdown",
   "metadata": {},
   "source": [
    "### Drop the last timestep - We don't have the target for it"
   ]
  },
  {
   "cell_type": "code",
   "execution_count": 82,
   "metadata": {},
   "outputs": [],
   "source": [
    "standardized_data_with_target.reset_index(level=0, inplace=True)\n",
    "\n",
    "standardized_data_with_target.drop(standardized_data_with_target[standardized_data_with_target.Target_Shifted_Quintile_1 == 999].index,axis='rows',inplace = True)\n",
    "\n",
    "standardized_data_with_target.set_index(\"Tick\",inplace = True)"
   ]
  },
  {
   "cell_type": "markdown",
   "metadata": {},
   "source": [
    "### Working with a single stock"
   ]
  },
  {
   "cell_type": "code",
   "execution_count": 83,
   "metadata": {},
   "outputs": [],
   "source": [
    "#Separates data into target (Closing Price) and predictors (excluding date)\n",
    "def split_stock_data(stock_data):\n",
    "    y = stock_data['Target_Shifted_Quintile_1']\n",
    "    X = stock_data.drop(['Target_Shifted_Quintile_1','Date'],axis='columns', inplace=False) #This way we don't remove the data information from the dataset\n",
    "    return X,y"
   ]
  },
  {
   "cell_type": "code",
   "execution_count": 84,
   "metadata": {},
   "outputs": [],
   "source": [
    "# Create dataset for LSTM model\n",
    "\n",
    "def create_dataset(X, y, time_steps=1):\n",
    "    Xs, ys = [], []\n",
    "    for i in range(len(X) - time_steps):\n",
    "        v = X.iloc[i:(i + time_steps)].values\n",
    "        Xs.append(v)\n",
    "        ys.append(y.iloc[i + time_steps])\n",
    "    return np.array(Xs), np.array(ys)"
   ]
  },
  {
   "cell_type": "code",
   "execution_count": 85,
   "metadata": {},
   "outputs": [],
   "source": [
    "\n",
    "sd   = get_stock_data(standardized_data_with_target,'INTC') # Select a single stock\n",
    "X,y  = split_stock_data(sd)\n",
    "\n",
    "#Splits data into training and testing sets\n",
    "X_train, X_test, y_train, y_test = sk.model_selection.train_test_split(X,y,test_size=0.125)"
   ]
  },
  {
   "cell_type": "code",
   "execution_count": 86,
   "metadata": {},
   "outputs": [],
   "source": [
    "time_steps = 1\n",
    "X_train,y_train = create_dataset(X_train, y_train, time_steps=time_steps)\n",
    "X_test,y_test = create_dataset(X_test, y_test, time_steps=time_steps)"
   ]
  },
  {
   "cell_type": "code",
   "execution_count": 87,
   "metadata": {},
   "outputs": [
    {
     "name": "stdout",
     "output_type": "stream",
     "text": [
      "(190, 1, 20)\n",
      "(190,)\n",
      "(27, 1, 20)\n",
      "(27,)\n"
     ]
    }
   ],
   "source": [
    "print(X_train.shape)\n",
    "print(y_train.shape)\n",
    "\n",
    "print(X_test.shape)\n",
    "print(y_test.shape)"
   ]
  },
  {
   "cell_type": "code",
   "execution_count": 88,
   "metadata": {},
   "outputs": [],
   "source": [
    "# One-hot encoding\n",
    "from tensorflow.keras.utils import to_categorical\n",
    "\n",
    "y_train = to_categorical(y_train, 5)\n",
    "y_test = to_categorical(y_test, 5)"
   ]
  },
  {
   "cell_type": "code",
   "execution_count": 93,
   "metadata": {},
   "outputs": [
    {
     "name": "stdout",
     "output_type": "stream",
     "text": [
      "Model: \"sequential_8\"\n",
      "_________________________________________________________________\n",
      "Layer (type)                 Output Shape              Param #   \n",
      "=================================================================\n",
      "simple_rnn_5 (SimpleRNN)     (None, 16)                592       \n",
      "_________________________________________________________________\n",
      "dense_6 (Dense)              (None, 5)                 85        \n",
      "=================================================================\n",
      "Total params: 677\n",
      "Trainable params: 677\n",
      "Non-trainable params: 0\n",
      "_________________________________________________________________\n",
      "None\n",
      "Epoch 1/200\n",
      "38/38 [==============================] - 0s 5ms/step - loss: 1.8191 - acc: 0.2368 - val_loss: 1.8198 - val_acc: 0.1842\n",
      "Epoch 2/200\n",
      "38/38 [==============================] - 0s 980us/step - loss: 1.7541 - acc: 0.2171 - val_loss: 1.7779 - val_acc: 0.1579\n",
      "Epoch 3/200\n",
      "38/38 [==============================] - 0s 972us/step - loss: 1.7333 - acc: 0.1908 - val_loss: 1.7595 - val_acc: 0.1579\n",
      "Epoch 4/200\n",
      "38/38 [==============================] - 0s 1ms/step - loss: 1.7127 - acc: 0.2303 - val_loss: 1.7476 - val_acc: 0.1053\n",
      "Epoch 5/200\n",
      "38/38 [==============================] - 0s 994us/step - loss: 1.6960 - acc: 0.2368 - val_loss: 1.7275 - val_acc: 0.1579\n",
      "Epoch 6/200\n",
      "38/38 [==============================] - 0s 960us/step - loss: 1.6859 - acc: 0.2171 - val_loss: 1.7205 - val_acc: 0.1842\n",
      "Epoch 7/200\n",
      "38/38 [==============================] - 0s 1ms/step - loss: 1.6765 - acc: 0.2237 - val_loss: 1.7261 - val_acc: 0.1316\n",
      "Epoch 8/200\n",
      "38/38 [==============================] - 0s 1ms/step - loss: 1.6709 - acc: 0.2171 - val_loss: 1.7047 - val_acc: 0.1316\n",
      "Epoch 9/200\n",
      "38/38 [==============================] - 0s 1ms/step - loss: 1.6611 - acc: 0.2303 - val_loss: 1.7101 - val_acc: 0.1053\n",
      "Epoch 10/200\n",
      "38/38 [==============================] - 0s 1ms/step - loss: 1.6547 - acc: 0.2237 - val_loss: 1.7046 - val_acc: 0.1053\n",
      "Epoch 11/200\n",
      "38/38 [==============================] - 0s 1ms/step - loss: 1.6529 - acc: 0.2171 - val_loss: 1.6989 - val_acc: 0.1316\n",
      "Epoch 12/200\n",
      "38/38 [==============================] - 0s 1ms/step - loss: 1.6476 - acc: 0.2237 - val_loss: 1.7116 - val_acc: 0.1316\n",
      "Epoch 13/200\n",
      "38/38 [==============================] - 0s 1ms/step - loss: 1.6417 - acc: 0.2500 - val_loss: 1.6973 - val_acc: 0.1053\n",
      "Epoch 14/200\n",
      "38/38 [==============================] - 0s 1ms/step - loss: 1.6376 - acc: 0.2368 - val_loss: 1.6955 - val_acc: 0.1316\n",
      "Epoch 15/200\n",
      "38/38 [==============================] - 0s 1ms/step - loss: 1.6352 - acc: 0.2039 - val_loss: 1.7050 - val_acc: 0.1316\n",
      "Epoch 16/200\n",
      "38/38 [==============================] - 0s 1ms/step - loss: 1.6331 - acc: 0.2434 - val_loss: 1.7045 - val_acc: 0.1053\n",
      "Epoch 17/200\n",
      "38/38 [==============================] - 0s 1ms/step - loss: 1.6284 - acc: 0.2303 - val_loss: 1.6988 - val_acc: 0.1053\n",
      "Epoch 18/200\n",
      "38/38 [==============================] - 0s 1ms/step - loss: 1.6246 - acc: 0.2434 - val_loss: 1.6938 - val_acc: 0.1316\n",
      "Epoch 19/200\n",
      "38/38 [==============================] - 0s 1ms/step - loss: 1.6224 - acc: 0.2237 - val_loss: 1.6978 - val_acc: 0.1053\n",
      "Epoch 20/200\n",
      "38/38 [==============================] - 0s 1ms/step - loss: 1.6182 - acc: 0.2171 - val_loss: 1.6911 - val_acc: 0.1316\n",
      "Epoch 21/200\n",
      "38/38 [==============================] - 0s 1ms/step - loss: 1.6183 - acc: 0.2368 - val_loss: 1.6892 - val_acc: 0.1579\n",
      "Epoch 22/200\n",
      "38/38 [==============================] - 0s 1ms/step - loss: 1.6153 - acc: 0.2303 - val_loss: 1.6948 - val_acc: 0.1053\n",
      "Epoch 23/200\n",
      "38/38 [==============================] - 0s 1ms/step - loss: 1.6166 - acc: 0.2303 - val_loss: 1.7017 - val_acc: 0.1053\n",
      "Epoch 24/200\n",
      "38/38 [==============================] - 0s 1ms/step - loss: 1.6119 - acc: 0.2434 - val_loss: 1.6888 - val_acc: 0.1316\n",
      "Epoch 25/200\n",
      "38/38 [==============================] - 0s 1ms/step - loss: 1.6081 - acc: 0.2303 - val_loss: 1.6924 - val_acc: 0.1316\n",
      "Epoch 26/200\n",
      "38/38 [==============================] - 0s 1ms/step - loss: 1.6077 - acc: 0.2697 - val_loss: 1.6882 - val_acc: 0.1316\n",
      "Epoch 27/200\n",
      "38/38 [==============================] - 0s 1ms/step - loss: 1.6078 - acc: 0.2368 - val_loss: 1.6959 - val_acc: 0.1316\n",
      "Epoch 28/200\n",
      "38/38 [==============================] - 0s 1ms/step - loss: 1.6028 - acc: 0.2368 - val_loss: 1.6985 - val_acc: 0.1053\n",
      "Epoch 29/200\n",
      "38/38 [==============================] - 0s 1ms/step - loss: 1.6001 - acc: 0.2500 - val_loss: 1.6907 - val_acc: 0.1316\n",
      "Epoch 30/200\n",
      "38/38 [==============================] - 0s 1ms/step - loss: 1.6029 - acc: 0.2434 - val_loss: 1.7007 - val_acc: 0.1316\n",
      "Epoch 31/200\n",
      "38/38 [==============================] - 0s 1ms/step - loss: 1.5978 - acc: 0.2566 - val_loss: 1.6885 - val_acc: 0.1316\n",
      "Epoch 32/200\n",
      "38/38 [==============================] - 0s 1ms/step - loss: 1.5990 - acc: 0.2632 - val_loss: 1.6905 - val_acc: 0.1579\n",
      "Epoch 33/200\n",
      "38/38 [==============================] - 0s 1ms/step - loss: 1.6011 - acc: 0.2632 - val_loss: 1.6844 - val_acc: 0.1316\n",
      "Epoch 34/200\n",
      "38/38 [==============================] - 0s 1ms/step - loss: 1.5951 - acc: 0.2566 - val_loss: 1.6888 - val_acc: 0.1842\n",
      "Epoch 35/200\n",
      "38/38 [==============================] - 0s 1ms/step - loss: 1.5897 - acc: 0.2829 - val_loss: 1.6942 - val_acc: 0.1053\n",
      "Epoch 36/200\n",
      "38/38 [==============================] - 0s 1ms/step - loss: 1.5904 - acc: 0.2632 - val_loss: 1.7010 - val_acc: 0.1316\n",
      "Epoch 37/200\n",
      "38/38 [==============================] - 0s 1ms/step - loss: 1.5899 - acc: 0.2566 - val_loss: 1.7037 - val_acc: 0.1053\n",
      "Epoch 38/200\n",
      "38/38 [==============================] - 0s 1ms/step - loss: 1.5910 - acc: 0.2632 - val_loss: 1.6884 - val_acc: 0.1316\n",
      "Epoch 39/200\n",
      "38/38 [==============================] - 0s 991us/step - loss: 1.5859 - acc: 0.2566 - val_loss: 1.7039 - val_acc: 0.1842\n",
      "Epoch 40/200\n",
      "38/38 [==============================] - 0s 998us/step - loss: 1.5877 - acc: 0.2763 - val_loss: 1.6858 - val_acc: 0.1316\n",
      "Epoch 41/200\n",
      "38/38 [==============================] - 0s 974us/step - loss: 1.5874 - acc: 0.2632 - val_loss: 1.6937 - val_acc: 0.1053\n",
      "Epoch 42/200\n",
      "38/38 [==============================] - 0s 1ms/step - loss: 1.5839 - acc: 0.2303 - val_loss: 1.7013 - val_acc: 0.1053\n",
      "Epoch 43/200\n",
      "38/38 [==============================] - 0s 988us/step - loss: 1.5801 - acc: 0.2697 - val_loss: 1.6926 - val_acc: 0.1316\n",
      "Epoch 44/200\n",
      "38/38 [==============================] - 0s 998us/step - loss: 1.5839 - acc: 0.2632 - val_loss: 1.7032 - val_acc: 0.1316\n",
      "Epoch 45/200\n",
      "38/38 [==============================] - 0s 930us/step - loss: 1.5806 - acc: 0.2961 - val_loss: 1.6997 - val_acc: 0.1842\n",
      "Epoch 46/200\n",
      "38/38 [==============================] - 0s 927us/step - loss: 1.5779 - acc: 0.2829 - val_loss: 1.7058 - val_acc: 0.1579\n",
      "Epoch 47/200\n",
      "38/38 [==============================] - 0s 945us/step - loss: 1.5798 - acc: 0.2763 - val_loss: 1.7028 - val_acc: 0.1316\n",
      "Epoch 48/200\n",
      "38/38 [==============================] - 0s 945us/step - loss: 1.5768 - acc: 0.2829 - val_loss: 1.6954 - val_acc: 0.1053\n",
      "Epoch 49/200\n",
      "38/38 [==============================] - 0s 971us/step - loss: 1.5745 - acc: 0.2763 - val_loss: 1.7020 - val_acc: 0.1053\n",
      "Epoch 50/200\n",
      "38/38 [==============================] - 0s 998us/step - loss: 1.5755 - acc: 0.2763 - val_loss: 1.6979 - val_acc: 0.1053\n",
      "Epoch 51/200\n",
      "38/38 [==============================] - 0s 968us/step - loss: 1.5725 - acc: 0.2566 - val_loss: 1.7076 - val_acc: 0.1316\n",
      "Epoch 52/200\n",
      "38/38 [==============================] - 0s 1ms/step - loss: 1.5697 - acc: 0.2632 - val_loss: 1.6956 - val_acc: 0.1053\n",
      "Epoch 53/200\n",
      "38/38 [==============================] - 0s 1ms/step - loss: 1.5735 - acc: 0.3026 - val_loss: 1.6899 - val_acc: 0.1579\n",
      "Epoch 54/200\n",
      "38/38 [==============================] - 0s 1ms/step - loss: 1.5688 - acc: 0.2697 - val_loss: 1.7076 - val_acc: 0.1053\n",
      "Epoch 55/200\n",
      "38/38 [==============================] - 0s 1ms/step - loss: 1.5681 - acc: 0.3092 - val_loss: 1.7045 - val_acc: 0.1316\n",
      "Epoch 56/200\n",
      "38/38 [==============================] - 0s 977us/step - loss: 1.5682 - acc: 0.2632 - val_loss: 1.6978 - val_acc: 0.1579\n",
      "Epoch 57/200\n",
      "38/38 [==============================] - 0s 971us/step - loss: 1.5648 - acc: 0.2697 - val_loss: 1.7076 - val_acc: 0.1579\n",
      "Epoch 58/200\n"
     ]
    },
    {
     "name": "stdout",
     "output_type": "stream",
     "text": [
      "38/38 [==============================] - 0s 1ms/step - loss: 1.5664 - acc: 0.2895 - val_loss: 1.7012 - val_acc: 0.1579\n",
      "Epoch 59/200\n",
      "38/38 [==============================] - 0s 1ms/step - loss: 1.5634 - acc: 0.3092 - val_loss: 1.7042 - val_acc: 0.1316\n",
      "Epoch 60/200\n",
      "38/38 [==============================] - 0s 1ms/step - loss: 1.5703 - acc: 0.2500 - val_loss: 1.7141 - val_acc: 0.1316\n",
      "Epoch 61/200\n",
      "38/38 [==============================] - 0s 1ms/step - loss: 1.5618 - acc: 0.2895 - val_loss: 1.7030 - val_acc: 0.1579\n",
      "Epoch 62/200\n",
      "38/38 [==============================] - 0s 1ms/step - loss: 1.5648 - acc: 0.3092 - val_loss: 1.6960 - val_acc: 0.1842\n",
      "Epoch 63/200\n",
      "38/38 [==============================] - 0s 1ms/step - loss: 1.5653 - acc: 0.2895 - val_loss: 1.7094 - val_acc: 0.1579\n",
      "Epoch 64/200\n",
      "38/38 [==============================] - 0s 1ms/step - loss: 1.5618 - acc: 0.3289 - val_loss: 1.7012 - val_acc: 0.1579\n",
      "Epoch 65/200\n",
      "38/38 [==============================] - 0s 989us/step - loss: 1.5625 - acc: 0.2961 - val_loss: 1.7077 - val_acc: 0.1579\n",
      "Epoch 66/200\n",
      "38/38 [==============================] - 0s 1ms/step - loss: 1.5640 - acc: 0.2895 - val_loss: 1.7011 - val_acc: 0.1316\n",
      "Epoch 67/200\n",
      "38/38 [==============================] - 0s 1ms/step - loss: 1.5605 - acc: 0.2763 - val_loss: 1.7132 - val_acc: 0.1053\n",
      "Epoch 68/200\n",
      "38/38 [==============================] - 0s 1ms/step - loss: 1.5588 - acc: 0.3026 - val_loss: 1.7069 - val_acc: 0.1579\n",
      "Epoch 69/200\n",
      "38/38 [==============================] - 0s 1ms/step - loss: 1.5571 - acc: 0.3026 - val_loss: 1.7062 - val_acc: 0.1842\n",
      "Epoch 70/200\n",
      "38/38 [==============================] - 0s 1ms/step - loss: 1.5605 - acc: 0.2697 - val_loss: 1.7109 - val_acc: 0.1316\n",
      "Epoch 71/200\n",
      "38/38 [==============================] - 0s 1ms/step - loss: 1.5557 - acc: 0.2829 - val_loss: 1.7156 - val_acc: 0.1842\n",
      "Epoch 72/200\n",
      "38/38 [==============================] - 0s 988us/step - loss: 1.5556 - acc: 0.2829 - val_loss: 1.7084 - val_acc: 0.1316\n",
      "Epoch 73/200\n",
      "38/38 [==============================] - 0s 1ms/step - loss: 1.5561 - acc: 0.2895 - val_loss: 1.7076 - val_acc: 0.1053\n",
      "Epoch 74/200\n",
      "38/38 [==============================] - 0s 1ms/step - loss: 1.5571 - acc: 0.2829 - val_loss: 1.7004 - val_acc: 0.1842\n",
      "Epoch 75/200\n",
      "38/38 [==============================] - 0s 1ms/step - loss: 1.5526 - acc: 0.3158 - val_loss: 1.7197 - val_acc: 0.1842\n",
      "Epoch 76/200\n",
      "38/38 [==============================] - 0s 929us/step - loss: 1.5522 - acc: 0.2829 - val_loss: 1.7187 - val_acc: 0.1316\n",
      "Epoch 77/200\n",
      "38/38 [==============================] - 0s 984us/step - loss: 1.5521 - acc: 0.2697 - val_loss: 1.7154 - val_acc: 0.1316\n",
      "Epoch 78/200\n",
      "38/38 [==============================] - 0s 994us/step - loss: 1.5546 - acc: 0.2895 - val_loss: 1.7222 - val_acc: 0.1316\n",
      "Epoch 79/200\n",
      "38/38 [==============================] - 0s 969us/step - loss: 1.5475 - acc: 0.2961 - val_loss: 1.7123 - val_acc: 0.1316\n",
      "Epoch 80/200\n",
      "38/38 [==============================] - 0s 961us/step - loss: 1.5494 - acc: 0.3092 - val_loss: 1.7090 - val_acc: 0.1842\n",
      "Epoch 81/200\n",
      "38/38 [==============================] - 0s 1ms/step - loss: 1.5475 - acc: 0.3092 - val_loss: 1.7209 - val_acc: 0.1316\n",
      "Epoch 82/200\n",
      "38/38 [==============================] - 0s 1ms/step - loss: 1.5475 - acc: 0.3092 - val_loss: 1.7084 - val_acc: 0.1579\n",
      "Epoch 83/200\n",
      "38/38 [==============================] - 0s 982us/step - loss: 1.5465 - acc: 0.3092 - val_loss: 1.7208 - val_acc: 0.1579\n",
      "Epoch 84/200\n",
      "38/38 [==============================] - 0s 942us/step - loss: 1.5445 - acc: 0.2895 - val_loss: 1.7188 - val_acc: 0.1579\n",
      "Epoch 85/200\n",
      "38/38 [==============================] - 0s 964us/step - loss: 1.5452 - acc: 0.3158 - val_loss: 1.7139 - val_acc: 0.1579\n",
      "Epoch 86/200\n",
      "38/38 [==============================] - 0s 1ms/step - loss: 1.5482 - acc: 0.3026 - val_loss: 1.7110 - val_acc: 0.1316\n",
      "Epoch 87/200\n",
      "38/38 [==============================] - 0s 1ms/step - loss: 1.5496 - acc: 0.2961 - val_loss: 1.7166 - val_acc: 0.1579\n",
      "Epoch 88/200\n",
      "38/38 [==============================] - 0s 951us/step - loss: 1.5491 - acc: 0.2566 - val_loss: 1.7189 - val_acc: 0.1316\n",
      "Epoch 89/200\n",
      "38/38 [==============================] - 0s 963us/step - loss: 1.5473 - acc: 0.3026 - val_loss: 1.7214 - val_acc: 0.1316\n",
      "Epoch 90/200\n",
      "38/38 [==============================] - 0s 1ms/step - loss: 1.5474 - acc: 0.2895 - val_loss: 1.7124 - val_acc: 0.1579\n",
      "Epoch 91/200\n",
      "38/38 [==============================] - 0s 973us/step - loss: 1.5447 - acc: 0.2961 - val_loss: 1.7102 - val_acc: 0.1842\n",
      "Epoch 92/200\n",
      "38/38 [==============================] - 0s 1ms/step - loss: 1.5464 - acc: 0.3224 - val_loss: 1.7272 - val_acc: 0.1842\n",
      "Epoch 93/200\n",
      "38/38 [==============================] - 0s 963us/step - loss: 1.5482 - acc: 0.3092 - val_loss: 1.7091 - val_acc: 0.1842\n",
      "Epoch 94/200\n",
      "38/38 [==============================] - 0s 988us/step - loss: 1.5422 - acc: 0.3026 - val_loss: 1.7296 - val_acc: 0.1579\n",
      "Epoch 95/200\n",
      "38/38 [==============================] - 0s 947us/step - loss: 1.5404 - acc: 0.3092 - val_loss: 1.7223 - val_acc: 0.1316\n",
      "Epoch 96/200\n",
      "38/38 [==============================] - 0s 970us/step - loss: 1.5416 - acc: 0.3026 - val_loss: 1.7242 - val_acc: 0.1316\n",
      "Epoch 97/200\n",
      "38/38 [==============================] - 0s 935us/step - loss: 1.5403 - acc: 0.2961 - val_loss: 1.7147 - val_acc: 0.1579\n",
      "Epoch 98/200\n",
      "38/38 [==============================] - 0s 1ms/step - loss: 1.5437 - acc: 0.2961 - val_loss: 1.7282 - val_acc: 0.1316\n",
      "Epoch 99/200\n",
      "38/38 [==============================] - 0s 1ms/step - loss: 1.5398 - acc: 0.3289 - val_loss: 1.7139 - val_acc: 0.1842\n",
      "Epoch 100/200\n",
      "38/38 [==============================] - 0s 976us/step - loss: 1.5401 - acc: 0.3026 - val_loss: 1.7195 - val_acc: 0.1579\n",
      "Epoch 101/200\n",
      "38/38 [==============================] - 0s 936us/step - loss: 1.5363 - acc: 0.2961 - val_loss: 1.7217 - val_acc: 0.1053\n",
      "Epoch 102/200\n",
      "38/38 [==============================] - 0s 923us/step - loss: 1.5412 - acc: 0.2566 - val_loss: 1.7277 - val_acc: 0.1316\n",
      "Epoch 103/200\n",
      "38/38 [==============================] - 0s 952us/step - loss: 1.5358 - acc: 0.3026 - val_loss: 1.7297 - val_acc: 0.1053\n",
      "Epoch 104/200\n",
      "38/38 [==============================] - 0s 961us/step - loss: 1.5347 - acc: 0.3092 - val_loss: 1.7264 - val_acc: 0.1316\n",
      "Epoch 105/200\n",
      "38/38 [==============================] - 0s 982us/step - loss: 1.5335 - acc: 0.3092 - val_loss: 1.7213 - val_acc: 0.1316\n",
      "Epoch 106/200\n",
      "38/38 [==============================] - 0s 949us/step - loss: 1.5351 - acc: 0.3289 - val_loss: 1.7229 - val_acc: 0.1579\n",
      "Epoch 107/200\n",
      "38/38 [==============================] - 0s 941us/step - loss: 1.5349 - acc: 0.3421 - val_loss: 1.7355 - val_acc: 0.1579\n",
      "Epoch 108/200\n",
      "38/38 [==============================] - 0s 1ms/step - loss: 1.5367 - acc: 0.3355 - val_loss: 1.7214 - val_acc: 0.1579\n",
      "Epoch 109/200\n",
      "38/38 [==============================] - 0s 928us/step - loss: 1.5327 - acc: 0.2961 - val_loss: 1.7192 - val_acc: 0.2105\n",
      "Epoch 110/200\n",
      "38/38 [==============================] - 0s 993us/step - loss: 1.5333 - acc: 0.2895 - val_loss: 1.7361 - val_acc: 0.1579\n",
      "Epoch 111/200\n",
      "38/38 [==============================] - 0s 1ms/step - loss: 1.5336 - acc: 0.3224 - val_loss: 1.7209 - val_acc: 0.1316\n",
      "Epoch 112/200\n",
      "38/38 [==============================] - 0s 989us/step - loss: 1.5315 - acc: 0.3158 - val_loss: 1.7340 - val_acc: 0.1316\n",
      "Epoch 113/200\n",
      "38/38 [==============================] - 0s 986us/step - loss: 1.5322 - acc: 0.3092 - val_loss: 1.7256 - val_acc: 0.1053\n",
      "Epoch 114/200\n",
      "38/38 [==============================] - 0s 980us/step - loss: 1.5376 - acc: 0.3092 - val_loss: 1.7352 - val_acc: 0.1579\n",
      "Epoch 115/200\n",
      "38/38 [==============================] - 0s 969us/step - loss: 1.5293 - acc: 0.3026 - val_loss: 1.7230 - val_acc: 0.1579\n",
      "Epoch 116/200\n",
      "38/38 [==============================] - 0s 969us/step - loss: 1.5313 - acc: 0.3421 - val_loss: 1.7296 - val_acc: 0.1579\n",
      "Epoch 117/200\n",
      "38/38 [==============================] - 0s 1ms/step - loss: 1.5324 - acc: 0.3092 - val_loss: 1.7324 - val_acc: 0.1316\n",
      "Epoch 118/200\n",
      "38/38 [==============================] - 0s 993us/step - loss: 1.5333 - acc: 0.3092 - val_loss: 1.7327 - val_acc: 0.1316\n",
      "Epoch 119/200\n"
     ]
    },
    {
     "name": "stdout",
     "output_type": "stream",
     "text": [
      "38/38 [==============================] - 0s 978us/step - loss: 1.5333 - acc: 0.3026 - val_loss: 1.7260 - val_acc: 0.1579\n",
      "Epoch 120/200\n",
      "38/38 [==============================] - 0s 949us/step - loss: 1.5312 - acc: 0.3289 - val_loss: 1.7372 - val_acc: 0.1316\n",
      "Epoch 121/200\n",
      "38/38 [==============================] - 0s 942us/step - loss: 1.5308 - acc: 0.3289 - val_loss: 1.7307 - val_acc: 0.1316\n",
      "Epoch 122/200\n",
      "38/38 [==============================] - 0s 976us/step - loss: 1.5287 - acc: 0.3289 - val_loss: 1.7384 - val_acc: 0.1579\n",
      "Epoch 123/200\n",
      "38/38 [==============================] - 0s 956us/step - loss: 1.5297 - acc: 0.3224 - val_loss: 1.7321 - val_acc: 0.1316\n",
      "Epoch 124/200\n",
      "38/38 [==============================] - 0s 986us/step - loss: 1.5263 - acc: 0.3026 - val_loss: 1.7276 - val_acc: 0.1579\n",
      "Epoch 125/200\n",
      "38/38 [==============================] - 0s 985us/step - loss: 1.5298 - acc: 0.2961 - val_loss: 1.7375 - val_acc: 0.1842\n",
      "Epoch 126/200\n",
      "38/38 [==============================] - 0s 1ms/step - loss: 1.5262 - acc: 0.3224 - val_loss: 1.7250 - val_acc: 0.1579\n",
      "Epoch 127/200\n",
      "38/38 [==============================] - 0s 982us/step - loss: 1.5304 - acc: 0.3092 - val_loss: 1.7245 - val_acc: 0.1053\n",
      "Epoch 128/200\n",
      "38/38 [==============================] - 0s 965us/step - loss: 1.5329 - acc: 0.3158 - val_loss: 1.7297 - val_acc: 0.1316\n",
      "Epoch 129/200\n",
      "38/38 [==============================] - 0s 1ms/step - loss: 1.5281 - acc: 0.3092 - val_loss: 1.7420 - val_acc: 0.1579\n",
      "Epoch 130/200\n",
      "38/38 [==============================] - 0s 918us/step - loss: 1.5222 - acc: 0.3092 - val_loss: 1.7273 - val_acc: 0.1316\n",
      "Epoch 131/200\n",
      "38/38 [==============================] - 0s 1ms/step - loss: 1.5263 - acc: 0.3158 - val_loss: 1.7321 - val_acc: 0.1316\n",
      "Epoch 132/200\n",
      "38/38 [==============================] - 0s 962us/step - loss: 1.5219 - acc: 0.3158 - val_loss: 1.7336 - val_acc: 0.1316\n",
      "Epoch 133/200\n",
      "38/38 [==============================] - 0s 992us/step - loss: 1.5365 - acc: 0.3421 - val_loss: 1.7318 - val_acc: 0.1579\n",
      "Epoch 134/200\n",
      "38/38 [==============================] - 0s 1ms/step - loss: 1.5300 - acc: 0.3224 - val_loss: 1.7354 - val_acc: 0.1316\n",
      "Epoch 135/200\n",
      "38/38 [==============================] - 0s 946us/step - loss: 1.5224 - acc: 0.3158 - val_loss: 1.7338 - val_acc: 0.1053\n",
      "Epoch 136/200\n",
      "38/38 [==============================] - 0s 990us/step - loss: 1.5209 - acc: 0.3158 - val_loss: 1.7395 - val_acc: 0.1316\n",
      "Epoch 137/200\n",
      "38/38 [==============================] - 0s 950us/step - loss: 1.5259 - acc: 0.3224 - val_loss: 1.7461 - val_acc: 0.1579\n",
      "Epoch 138/200\n",
      "38/38 [==============================] - 0s 983us/step - loss: 1.5234 - acc: 0.3224 - val_loss: 1.7378 - val_acc: 0.1316\n",
      "Epoch 139/200\n",
      "38/38 [==============================] - 0s 1ms/step - loss: 1.5246 - acc: 0.3026 - val_loss: 1.7376 - val_acc: 0.1053\n",
      "Epoch 140/200\n",
      "38/38 [==============================] - 0s 945us/step - loss: 1.5166 - acc: 0.3553 - val_loss: 1.7319 - val_acc: 0.1316\n",
      "Epoch 141/200\n",
      "38/38 [==============================] - 0s 924us/step - loss: 1.5211 - acc: 0.3224 - val_loss: 1.7399 - val_acc: 0.1316\n",
      "Epoch 142/200\n",
      "38/38 [==============================] - 0s 1ms/step - loss: 1.5252 - acc: 0.3421 - val_loss: 1.7332 - val_acc: 0.1316\n",
      "Epoch 143/200\n",
      "38/38 [==============================] - 0s 1ms/step - loss: 1.5272 - acc: 0.3289 - val_loss: 1.7379 - val_acc: 0.1316\n",
      "Epoch 144/200\n",
      "38/38 [==============================] - 0s 1ms/step - loss: 1.5282 - acc: 0.3092 - val_loss: 1.7414 - val_acc: 0.1579\n",
      "Epoch 145/200\n",
      "38/38 [==============================] - 0s 986us/step - loss: 1.5170 - acc: 0.3289 - val_loss: 1.7393 - val_acc: 0.1579\n",
      "Epoch 146/200\n",
      "38/38 [==============================] - 0s 1ms/step - loss: 1.5206 - acc: 0.3289 - val_loss: 1.7326 - val_acc: 0.1316\n",
      "Epoch 147/200\n",
      "38/38 [==============================] - 0s 965us/step - loss: 1.5192 - acc: 0.3289 - val_loss: 1.7380 - val_acc: 0.1579\n",
      "Epoch 148/200\n",
      "38/38 [==============================] - 0s 946us/step - loss: 1.5148 - acc: 0.3224 - val_loss: 1.7469 - val_acc: 0.1316\n",
      "Epoch 149/200\n",
      "38/38 [==============================] - 0s 1ms/step - loss: 1.5253 - acc: 0.3158 - val_loss: 1.7389 - val_acc: 0.1316\n",
      "Epoch 150/200\n",
      "38/38 [==============================] - 0s 1ms/step - loss: 1.5179 - acc: 0.3092 - val_loss: 1.7523 - val_acc: 0.1579\n",
      "Epoch 151/200\n",
      "38/38 [==============================] - 0s 973us/step - loss: 1.5180 - acc: 0.3355 - val_loss: 1.7328 - val_acc: 0.1053\n",
      "Epoch 152/200\n",
      "38/38 [==============================] - 0s 987us/step - loss: 1.5193 - acc: 0.3224 - val_loss: 1.7441 - val_acc: 0.1316\n",
      "Epoch 153/200\n",
      "38/38 [==============================] - 0s 986us/step - loss: 1.5148 - acc: 0.3289 - val_loss: 1.7399 - val_acc: 0.1316\n",
      "Epoch 154/200\n",
      "38/38 [==============================] - 0s 992us/step - loss: 1.5191 - acc: 0.3092 - val_loss: 1.7441 - val_acc: 0.1316\n",
      "Epoch 155/200\n",
      "38/38 [==============================] - 0s 968us/step - loss: 1.5168 - acc: 0.3158 - val_loss: 1.7421 - val_acc: 0.1316\n",
      "Epoch 156/200\n",
      "38/38 [==============================] - 0s 887us/step - loss: 1.5148 - acc: 0.3158 - val_loss: 1.7402 - val_acc: 0.1316\n",
      "Epoch 157/200\n",
      "38/38 [==============================] - 0s 929us/step - loss: 1.5157 - acc: 0.3158 - val_loss: 1.7339 - val_acc: 0.1579\n",
      "Epoch 158/200\n",
      "38/38 [==============================] - 0s 978us/step - loss: 1.5159 - acc: 0.3289 - val_loss: 1.7426 - val_acc: 0.1579\n",
      "Epoch 159/200\n",
      "38/38 [==============================] - 0s 954us/step - loss: 1.5113 - acc: 0.3289 - val_loss: 1.7410 - val_acc: 0.1316\n",
      "Epoch 160/200\n",
      "38/38 [==============================] - 0s 980us/step - loss: 1.5156 - acc: 0.3158 - val_loss: 1.7436 - val_acc: 0.1316\n",
      "Epoch 161/200\n",
      "38/38 [==============================] - 0s 1ms/step - loss: 1.5248 - acc: 0.3158 - val_loss: 1.7490 - val_acc: 0.1316\n",
      "Epoch 162/200\n",
      "38/38 [==============================] - 0s 973us/step - loss: 1.5148 - acc: 0.3289 - val_loss: 1.7498 - val_acc: 0.1316\n",
      "Epoch 163/200\n",
      "38/38 [==============================] - 0s 998us/step - loss: 1.5122 - acc: 0.3487 - val_loss: 1.7398 - val_acc: 0.1316\n",
      "Epoch 164/200\n",
      "38/38 [==============================] - 0s 962us/step - loss: 1.5109 - acc: 0.3224 - val_loss: 1.7511 - val_acc: 0.1579\n",
      "Epoch 165/200\n",
      "38/38 [==============================] - 0s 953us/step - loss: 1.5112 - acc: 0.3289 - val_loss: 1.7492 - val_acc: 0.1316\n",
      "Epoch 166/200\n",
      "38/38 [==============================] - 0s 940us/step - loss: 1.5160 - acc: 0.3092 - val_loss: 1.7430 - val_acc: 0.1316\n",
      "Epoch 167/200\n",
      "38/38 [==============================] - 0s 952us/step - loss: 1.5119 - acc: 0.3289 - val_loss: 1.7442 - val_acc: 0.1316\n",
      "Epoch 168/200\n",
      "38/38 [==============================] - 0s 1ms/step - loss: 1.5091 - acc: 0.3092 - val_loss: 1.7463 - val_acc: 0.1316\n",
      "Epoch 169/200\n",
      "38/38 [==============================] - 0s 1000us/step - loss: 1.5154 - acc: 0.2961 - val_loss: 1.7402 - val_acc: 0.1316\n",
      "Epoch 170/200\n",
      "38/38 [==============================] - 0s 956us/step - loss: 1.5127 - acc: 0.3092 - val_loss: 1.7497 - val_acc: 0.1579\n",
      "Epoch 171/200\n",
      "38/38 [==============================] - 0s 1ms/step - loss: 1.5059 - acc: 0.3158 - val_loss: 1.7548 - val_acc: 0.1053\n",
      "Epoch 172/200\n",
      "38/38 [==============================] - 0s 1ms/step - loss: 1.5063 - acc: 0.2961 - val_loss: 1.7534 - val_acc: 0.1316\n",
      "Epoch 173/200\n",
      "38/38 [==============================] - 0s 949us/step - loss: 1.5119 - acc: 0.3224 - val_loss: 1.7336 - val_acc: 0.1579\n",
      "Epoch 174/200\n",
      "38/38 [==============================] - 0s 1ms/step - loss: 1.5071 - acc: 0.3158 - val_loss: 1.7512 - val_acc: 0.1053\n",
      "Epoch 175/200\n",
      "38/38 [==============================] - 0s 939us/step - loss: 1.5049 - acc: 0.3092 - val_loss: 1.7501 - val_acc: 0.1316\n",
      "Epoch 176/200\n",
      "38/38 [==============================] - 0s 937us/step - loss: 1.5090 - acc: 0.3092 - val_loss: 1.7542 - val_acc: 0.1316\n",
      "Epoch 177/200\n",
      "38/38 [==============================] - 0s 919us/step - loss: 1.5157 - acc: 0.3289 - val_loss: 1.7520 - val_acc: 0.1579\n",
      "Epoch 178/200\n",
      "38/38 [==============================] - 0s 972us/step - loss: 1.5088 - acc: 0.3158 - val_loss: 1.7576 - val_acc: 0.1316\n",
      "Epoch 179/200\n",
      "38/38 [==============================] - 0s 946us/step - loss: 1.5063 - acc: 0.3158 - val_loss: 1.7528 - val_acc: 0.1316\n",
      "Epoch 180/200\n"
     ]
    },
    {
     "name": "stdout",
     "output_type": "stream",
     "text": [
      "38/38 [==============================] - 0s 964us/step - loss: 1.5067 - acc: 0.3289 - val_loss: 1.7566 - val_acc: 0.1316\n",
      "Epoch 181/200\n",
      "38/38 [==============================] - 0s 987us/step - loss: 1.5042 - acc: 0.3092 - val_loss: 1.7481 - val_acc: 0.1316\n",
      "Epoch 182/200\n",
      "38/38 [==============================] - 0s 1ms/step - loss: 1.5046 - acc: 0.3158 - val_loss: 1.7427 - val_acc: 0.1579\n",
      "Epoch 183/200\n",
      "38/38 [==============================] - 0s 976us/step - loss: 1.5142 - acc: 0.3289 - val_loss: 1.7417 - val_acc: 0.1316\n",
      "Epoch 184/200\n",
      "38/38 [==============================] - 0s 950us/step - loss: 1.5061 - acc: 0.3289 - val_loss: 1.7541 - val_acc: 0.1316\n",
      "Epoch 185/200\n",
      "38/38 [==============================] - 0s 980us/step - loss: 1.5086 - acc: 0.3158 - val_loss: 1.7497 - val_acc: 0.1316\n",
      "Epoch 186/200\n",
      "38/38 [==============================] - 0s 1ms/step - loss: 1.5093 - acc: 0.3289 - val_loss: 1.7523 - val_acc: 0.1316\n",
      "Epoch 187/200\n",
      "38/38 [==============================] - 0s 1ms/step - loss: 1.5011 - acc: 0.3355 - val_loss: 1.7519 - val_acc: 0.1316\n",
      "Epoch 188/200\n",
      "38/38 [==============================] - 0s 1ms/step - loss: 1.5059 - acc: 0.3355 - val_loss: 1.7623 - val_acc: 0.1579\n",
      "Epoch 189/200\n",
      "38/38 [==============================] - 0s 1ms/step - loss: 1.5054 - acc: 0.3158 - val_loss: 1.7487 - val_acc: 0.1316\n",
      "Epoch 190/200\n",
      "38/38 [==============================] - 0s 998us/step - loss: 1.5011 - acc: 0.3158 - val_loss: 1.7541 - val_acc: 0.1316\n",
      "Epoch 191/200\n",
      "38/38 [==============================] - 0s 1ms/step - loss: 1.5010 - acc: 0.3158 - val_loss: 1.7565 - val_acc: 0.1579\n",
      "Epoch 192/200\n",
      "38/38 [==============================] - 0s 982us/step - loss: 1.4996 - acc: 0.3224 - val_loss: 1.7482 - val_acc: 0.1316\n",
      "Epoch 193/200\n",
      "38/38 [==============================] - 0s 1ms/step - loss: 1.5000 - acc: 0.3092 - val_loss: 1.7541 - val_acc: 0.1053\n",
      "Epoch 194/200\n",
      "38/38 [==============================] - 0s 991us/step - loss: 1.4998 - acc: 0.3421 - val_loss: 1.7547 - val_acc: 0.1316\n",
      "Epoch 195/200\n",
      "38/38 [==============================] - 0s 945us/step - loss: 1.5012 - acc: 0.3289 - val_loss: 1.7575 - val_acc: 0.1316\n",
      "Epoch 196/200\n",
      "38/38 [==============================] - 0s 916us/step - loss: 1.4987 - acc: 0.3224 - val_loss: 1.7537 - val_acc: 0.1579\n",
      "Epoch 197/200\n",
      "38/38 [==============================] - 0s 965us/step - loss: 1.5010 - acc: 0.3158 - val_loss: 1.7597 - val_acc: 0.1316\n",
      "Epoch 198/200\n",
      "38/38 [==============================] - 0s 940us/step - loss: 1.4988 - acc: 0.3224 - val_loss: 1.7467 - val_acc: 0.1316\n",
      "Epoch 199/200\n",
      "38/38 [==============================] - 0s 980us/step - loss: 1.5017 - acc: 0.3224 - val_loss: 1.7584 - val_acc: 0.1316\n",
      "Epoch 200/200\n",
      "38/38 [==============================] - 0s 972us/step - loss: 1.4958 - acc: 0.3355 - val_loss: 1.7539 - val_acc: 0.1053\n"
     ]
    }
   ],
   "source": [
    "from tensorflow.keras.models import Sequential\n",
    "from tensorflow.keras.layers import Dense\n",
    "from tensorflow.keras.layers import LSTM\n",
    "from tensorflow.keras.layers import SimpleRNN\n",
    "from sklearn.preprocessing import MinMaxScaler\n",
    "from sklearn.metrics import mean_squared_error\n",
    "from tensorflow.keras.callbacks import EarlyStopping\n",
    "from tensorflow.keras.regularizers import l2\n",
    "\n",
    "# LSTM input_shape: (Samples,Time Steps, Features)\n",
    "# Samples. One sequence is one sample. A batch is comprised of one or more samples.\n",
    "# Time Steps. One time step is one point of observation in the sample.\n",
    "# Features. One feature is one observation at a time step.\n",
    "\n",
    "input_shape=(time_steps, 20) # 1 or more samples, time_steps time steps, and 20 features.\n",
    "\n",
    "\n",
    "# create and fit the LSTM network\n",
    "model = Sequential()\n",
    "\n",
    "\n",
    "model.add(SimpleRNN(16, input_shape=input_shape,kernel_regularizer=l2(0.005), recurrent_regularizer=l2(0.005), bias_regularizer=l2(0.005)))\n",
    "\n",
    "\n",
    "model.add(Dense(5, activation='softmax'))\n",
    "\n",
    "#model.compile(loss='categorical_crossentropy', optimizer='adam', metrics=['categorical_accuracy'], )\n",
    "\n",
    "model.compile(optimizer='adam', loss='categorical_crossentropy', metrics=['acc'])\n",
    "print(model.summary())\n",
    "\n",
    "\n",
    "#,callbacks=[EarlyStopping(monitor='val_loss',patience=200, min_delta=0.0001)]\n",
    "history = model.fit(X_train, y_train, epochs=200, batch_size=4,validation_split=0.2)\n",
    "\n",
    "\n",
    "\n",
    "\n",
    "\n",
    "\n",
    "#history = model.fit(X_train, y_train, epochs = 100, batch_size = 8)\n"
   ]
  },
  {
   "cell_type": "code",
   "execution_count": 95,
   "metadata": {},
   "outputs": [
    {
     "data": {
      "image/png": "[encoded data removed]",
      "text/plain": [
       "<Figure size 432x288 with 1 Axes>"
      ]
     },
     "metadata": {
      "needs_background": "light"
     },
     "output_type": "display_data"
    },
    {
     "data": {
      "image/png": "[encoded data removed]",
      "text/plain": [
       "<Figure size 432x288 with 1 Axes>"
      ]
     },
     "metadata": {
      "needs_background": "light"
     },
     "output_type": "display_data"
    }
   ],
   "source": [
    "#  print(history.history.keys())\n",
    "# summarize history for accuracy\n",
    "plt.plot(history.history['acc'])\n",
    "plt.plot(history.history['val_acc'])\n",
    "plt.title('model accuracy')\n",
    "plt.ylabel('accuracy')\n",
    "plt.xlabel('epoch')\n",
    "plt.legend(['train', 'test'], loc='upper left')\n",
    "plt.show()\n",
    "# summarize history for loss\n",
    "plt.plot(history.history['loss'])\n",
    "plt.plot(history.history['val_loss'])\n",
    "plt.title('model loss')\n",
    "plt.ylabel('loss')\n",
    "plt.xlabel('epoch')\n",
    "plt.legend(['train', 'test'], loc='upper left')\n",
    "plt.show()"
   ]
  },
  {
   "cell_type": "code",
   "execution_count": 56,
   "metadata": {},
   "outputs": [
    {
     "name": "stdout",
     "output_type": "stream",
     "text": [
      "WARNING:tensorflow:Model was constructed with shape (None, 1, 20) for input Tensor(\"simple_rnn_2_input:0\", shape=(None, 1, 20), dtype=float32), but it was called on an input with incompatible shape (None, 6, 20).\n"
     ]
    }
   ],
   "source": [
    "predictions = model.predict(x=X_test, batch_size=4, verbose=0) \n",
    "rounded_predictions = np.argmax(predictions, axis=-1)"
   ]
  },
  {
   "cell_type": "code",
   "execution_count": 43,
   "metadata": {},
   "outputs": [
    {
     "name": "stdout",
     "output_type": "stream",
     "text": [
      "[[0 5]\n",
      " [1 2]\n",
      " [2 2]\n",
      " [3 5]\n",
      " [4 8]]\n"
     ]
    }
   ],
   "source": [
    "# Values count\n",
    "y_test = np.argmax(y_test, axis=-1)\n",
    "(unique, counts) = np.unique(y_test, return_counts=True)\n",
    "frequencies = np.asarray((unique, counts)).T\n",
    "print(frequencies)"
   ]
  },
  {
   "cell_type": "code",
   "execution_count": 44,
   "metadata": {},
   "outputs": [
    {
     "name": "stdout",
     "output_type": "stream",
     "text": [
      "[4 3 0 0 1 1 0 2 3 0 2 3 0 4 3 2 2 0 1 0 1 0]\n",
      "[4 2 0 2 1 4 3 0 0 4 3 3 4 4 3 4 3 0 4 4 1 0]\n"
     ]
    }
   ],
   "source": [
    "print(rounded_predictions)\n",
    "print(y_test)"
   ]
  },
  {
   "cell_type": "code",
   "execution_count": 45,
   "metadata": {},
   "outputs": [],
   "source": [
    "%matplotlib inline\n",
    "from sklearn.metrics import confusion_matrix\n",
    "import itertools"
   ]
  },
  {
   "cell_type": "code",
   "execution_count": 46,
   "metadata": {},
   "outputs": [
    {
     "name": "stdout",
     "output_type": "stream",
     "text": [
      "[[3 0 1 1 0]\n",
      " [0 2 0 0 0]\n",
      " [1 0 0 1 0]\n",
      " [1 0 2 2 0]\n",
      " [3 2 1 0 2]]\n"
     ]
    }
   ],
   "source": [
    "cm = confusion_matrix(y_true=y_test, y_pred=rounded_predictions)\n",
    "print(cm)"
   ]
  },
  {
   "cell_type": "code",
   "execution_count": 47,
   "metadata": {},
   "outputs": [],
   "source": [
    "def plot_confusion_matrix(cm, classes,\n",
    "                          normalize=False,\n",
    "                          title='Confusion matrix',\n",
    "                          cmap=plt.cm.Blues):\n",
    "    \"\"\"\n",
    "    This function prints and plots the confusion matrix.\n",
    "    Normalization can be applied by setting `normalize=True`.\n",
    "    \"\"\"\n",
    "    plt.imshow(cm, interpolation='nearest', cmap=cmap)\n",
    "    plt.title(title)\n",
    "    plt.colorbar()\n",
    "    tick_marks = np.arange(len(classes))\n",
    "    plt.xticks(tick_marks, classes, rotation=45)\n",
    "    plt.yticks(tick_marks, classes)\n",
    "\n",
    "    if normalize:\n",
    "        cm = cm.astype('float') / cm.sum(axis=1)[:, np.newaxis]\n",
    "        print(\"Normalized confusion matrix\")\n",
    "    else:\n",
    "        print('Confusion matrix, without normalization')\n",
    "\n",
    "    print(cm)\n",
    "\n",
    "    thresh = cm.max() / 2.\n",
    "    for i, j in itertools.product(range(cm.shape[0]), range(cm.shape[1])):\n",
    "        plt.text(j, i, cm[i, j],\n",
    "                 horizontalalignment=\"center\",\n",
    "                 color=\"white\" if cm[i, j] > thresh else \"black\")\n",
    "\n",
    "    plt.tight_layout()\n",
    "    plt.ylabel('True label')\n",
    "    plt.xlabel('Predicted label')"
   ]
  },
  {
   "cell_type": "code",
   "execution_count": 48,
   "metadata": {
    "scrolled": false
   },
   "outputs": [
    {
     "name": "stdout",
     "output_type": "stream",
     "text": [
      "Confusion matrix, without normalization\n",
      "[[3 0 1 1 0]\n",
      " [0 2 0 0 0]\n",
      " [1 0 0 1 0]\n",
      " [1 0 2 2 0]\n",
      " [3 2 1 0 2]]\n"
     ]
    },
    {
     "data": {
      "image/png": "[encoded data removed]",
      "text/plain": [
       "<Figure size 432x288 with 2 Axes>"
      ]
     },
     "metadata": {
      "needs_background": "light"
     },
     "output_type": "display_data"
    }
   ],
   "source": [
    "cm_plot_labels = ['1st','2nd','3rd','4th','5th']\n",
    "plot_confusion_matrix(cm=cm, classes=cm_plot_labels, title='Confusion Matrixx')"
   ]
  },
  {
   "cell_type": "code",
   "execution_count": null,
   "metadata": {},
   "outputs": [],
   "source": []
  },
  {
   "cell_type": "code",
   "execution_count": null,
   "metadata": {},
   "outputs": [],
   "source": []
  }
 ],
 "metadata": {
  "kernelspec": {
   "display_name": "Python 3",
   "language": "python",
   "name": "python3"
  },
  "language_info": {
   "codemirror_mode": {
    "name": "ipython",
    "version": 3
   },
   "file_extension": ".py",
   "mimetype": "text/x-python",
   "name": "python",
   "nbconvert_exporter": "python",
   "pygments_lexer": "ipython3",
   "version": "3.8.3"
  }
 },
 "nbformat": 4,
 "nbformat_minor": 4
}
